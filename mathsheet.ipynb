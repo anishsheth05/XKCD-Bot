{
 "cells": [
  {
   "cell_type": "code",
   "execution_count": 1,
   "metadata": {},
   "outputs": [],
   "source": [
    "import math"
   ]
  },
  {
   "cell_type": "code",
   "execution_count": 17,
   "metadata": {},
   "outputs": [],
   "source": [
    "from math import pi\n",
    "\n",
    "g=9.8\n",
    "\n",
    "Ug50in = 50*g*4/2\n",
    "Ug50x = 50*g*1/2\n",
    "\n",
    "Kin = 55*pow(5, 2)/2\n",
    "\n",
    "Ugsfn = 5*g*4\n",
    "Ugsfx = 5*g\n",
    "\n",
    "Etn = .4*50*g*math.cos(30*math.pi/180)*4\n",
    "Etx = .4*50*g*math.cos(30*math.pi/180)"
   ]
  },
  {
   "cell_type": "code",
   "execution_count": 18,
   "metadata": {},
   "outputs": [
    {
     "name": "stdout",
     "output_type": "stream",
     "text": [
      "350.0 -26.25902085825004 -792.5360834330002\n"
     ]
    }
   ],
   "source": [
    "a = 700/2\n",
    "b = Etx + Ugsfx - Ug50x\n",
    "c = Etn + Ugsfn - Kin - Ug50in\n",
    "print(a,b,c)"
   ]
  },
  {
   "cell_type": "code",
   "execution_count": null,
   "metadata": {},
   "outputs": [],
   "source": []
  }
 ],
 "metadata": {
  "kernelspec": {
   "display_name": "Python 3.8.5 ('base')",
   "language": "python",
   "name": "python3"
  },
  "language_info": {
   "codemirror_mode": {
    "name": "ipython",
    "version": 3
   },
   "file_extension": ".py",
   "mimetype": "text/x-python",
   "name": "python",
   "nbconvert_exporter": "python",
   "pygments_lexer": "ipython3",
   "version": "3.8.5"
  },
  "orig_nbformat": 4,
  "vscode": {
   "interpreter": {
    "hash": "0c6c8f80c95a2d71f49232e25e46a55b1b8620458990cc4c83a08b76fd2420ba"
   }
  }
 },
 "nbformat": 4,
 "nbformat_minor": 2
}
